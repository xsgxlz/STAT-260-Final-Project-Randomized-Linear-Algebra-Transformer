{
 "cells": [
  {
   "cell_type": "code",
   "execution_count": 2,
   "metadata": {},
   "outputs": [
    {
     "name": "stdout",
     "output_type": "stream",
     "text": [
      "Time stamp: 2025-05-09 02-44-26\n"
     ]
    }
   ],
   "source": [
    "import os\n",
    "import time\n",
    "import random\n",
    "import copy\n",
    "import sys\n",
    "\n",
    "import numpy as np\n",
    "import torch\n",
    "\n",
    "sys.path.append(\"/jet/home/azhang19/stat 260/STAT-260-Final-Project-Randomized-Linear-Algebra-Transformer\")\n",
    "from RLALLaMA3.LLaMA3 import ModelArgs, Transformer\n",
    "from RLALLaMA3.utils import (\n",
    "    linear_warmup_cosine_decay_multiplicative,\n",
    "    name_args,\n",
    "    Args,\n",
    ")\n",
    "from RLALLaMA3.tasks import single_answer_seq_loss, get_dataset\n",
    "\n",
    "def set_seed(seed):\n",
    "    random.seed(seed)\n",
    "    np.random.seed(seed)\n",
    "    torch.manual_seed(seed)\n",
    "    if torch.cuda.is_available():\n",
    "        torch.cuda.manual_seed(seed)\n",
    "        torch.cuda.manual_seed_all(seed)\n",
    "    torch.backends.cudnn.deterministic = True\n",
    "    torch.backends.cudnn.benchmark = False\n",
    "\n",
    "torch.set_float32_matmul_precision(\"high\")\n",
    "device = \"cuda\" if torch.cuda.is_available() else \"cpu\"\n",
    "\n",
    "time_stamp = time.strftime(\"%Y-%m-%d %H-%M-%S\", time.localtime())\n",
    "print(f\"Time stamp: {time_stamp}\")"
   ]
  },
  {
   "cell_type": "code",
   "execution_count": 29,
   "metadata": {},
   "outputs": [
    {
     "name": "stdout",
     "output_type": "stream",
     "text": [
      "Tensor A:\n",
      " tensor([[[ 0,  1,  2,  3,  4],\n",
      "         [ 5,  6,  7,  8,  9],\n",
      "         [10, 11, 12, 13, 14],\n",
      "         [15, 16, 17, 18, 19]],\n",
      "\n",
      "        [[20, 21, 22, 23, 24],\n",
      "         [25, 26, 27, 28, 29],\n",
      "         [30, 31, 32, 33, 34],\n",
      "         [35, 36, 37, 38, 39]],\n",
      "\n",
      "        [[40, 41, 42, 43, 44],\n",
      "         [45, 46, 47, 48, 49],\n",
      "         [50, 51, 52, 53, 54],\n",
      "         [55, 56, 57, 58, 59]]])\n",
      "Index tensor:\n",
      " tensor([[0, 2],\n",
      "        [1, 3],\n",
      "        [0, 1]])\n",
      "Result using advanced indexing:\n",
      " tensor([[[ 0,  1,  2,  3,  4],\n",
      "         [10, 11, 12, 13, 14]],\n",
      "\n",
      "        [[25, 26, 27, 28, 29],\n",
      "         [35, 36, 37, 38, 39]],\n",
      "\n",
      "        [[40, 41, 42, 43, 44],\n",
      "         [45, 46, 47, 48, 49]]])\n",
      "Shape of the result: torch.Size([3, 2, 5])\n"
     ]
    }
   ],
   "source": [
    "import torch\n",
    "\n",
    "# Example tensors\n",
    "A = torch.arange(60).reshape(3, 4, 5)\n",
    "index = torch.tensor([[0, 2],   # For batch 0, select rows 0 and 2\n",
    "                      [1, 3],   # For batch 1, select rows 1 and 3\n",
    "                      [0, 1]])  # For batch 2, select rows 0 and 1\n",
    "                      # Shape: (3, 2)\n",
    "\n",
    "# Ensure index tensor is of dtype long for indexing\n",
    "index = index.long()\n",
    "\n",
    "# 1. Create batch indices\n",
    "# Gets the batch size from A\n",
    "batch_size = A.size(0)\n",
    "# Creates a tensor [0, 1, 2, ..., batch_size-1]\n",
    "batch_indices = torch.arange(batch_size, device=A.device)\n",
    "# Unsqueeze to make it a column vector (B, 1) for broadcasting, e.g., [[0], [1], [2]]\n",
    "batch_indices = batch_indices.unsqueeze(1) # Shape: (3, 1)\n",
    "\n",
    "# 2. Perform advanced indexing\n",
    "# A[batch_indices, index] will select:\n",
    "# For each b in 0..B-1, and for each k in 0..K-1:\n",
    "# A[batch_indices[b,0], index[b,k], :]\n",
    "# Since batch_indices broadcasts from (B,1) to (B,K) and index is (B,K),\n",
    "# this effectively means A[b, index[b,k], :]\n",
    "result = A[batch_indices, index]\n",
    "\n",
    "# The shape of 'result' will be (3, 2, 5)\n",
    "print(\"Tensor A:\\n\", A)\n",
    "print(\"Index tensor:\\n\", index)\n",
    "print(\"Result using advanced indexing:\\n\", result)\n",
    "print(\"Shape of the result:\", result.shape)"
   ]
  },
  {
   "cell_type": "code",
   "execution_count": 55,
   "metadata": {},
   "outputs": [],
   "source": [
    "A = torch.randn(2, 4, 5)\n",
    "B = torch.randn(2, 5, 5)"
   ]
  },
  {
   "cell_type": "code",
   "execution_count": 56,
   "metadata": {},
   "outputs": [],
   "source": [
    "random_tensor = torch.rand(2, 5)\n",
    "permutations = torch.argsort(random_tensor, dim=1, descending=False)"
   ]
  },
  {
   "cell_type": "code",
   "execution_count": 57,
   "metadata": {},
   "outputs": [],
   "source": [
    "part1 = permutations[:, :2]\n",
    "part2 = permutations[:, 2:]\n"
   ]
  },
  {
   "cell_type": "code",
   "execution_count": 66,
   "metadata": {},
   "outputs": [],
   "source": [
    "batch_indices = torch.arange(A.size(0), device=A.device).unsqueeze(1)\n",
    "A_part1 = A.transpose(-1, -2)[batch_indices, part1].transpose(-1, -2)\n",
    "A_part2 = A.transpose(-1, -2)[batch_indices, part2].transpose(-1, -2)\n",
    "\n",
    "B_part1 = B[batch_indices, part1]\n",
    "B_part2 = B[batch_indices, part2]\n",
    "\n"
   ]
  },
  {
   "cell_type": "code",
   "execution_count": 67,
   "metadata": {},
   "outputs": [
    {
     "data": {
      "text/plain": [
       "torch.Size([2, 4, 2])"
      ]
     },
     "execution_count": 67,
     "metadata": {},
     "output_type": "execute_result"
    }
   ],
   "source": [
    "A_part1.shape"
   ]
  },
  {
   "cell_type": "code",
   "execution_count": 64,
   "metadata": {},
   "outputs": [
    {
     "data": {
      "text/plain": [
       "torch.Size([2, 3, 5])"
      ]
     },
     "execution_count": 64,
     "metadata": {},
     "output_type": "execute_result"
    }
   ],
   "source": [
    "B_part2.shape"
   ]
  },
  {
   "cell_type": "code",
   "execution_count": 61,
   "metadata": {},
   "outputs": [
    {
     "data": {
      "text/plain": [
       "tensor([[[ 0.4267, -0.0805, -0.1317, -1.2567,  0.0193],\n",
       "         [ 1.6972, -1.0939,  0.1474, -2.0800, -0.0226],\n",
       "         [ 0.0805, -0.2762, -0.2431,  0.0344,  0.5473],\n",
       "         [-1.0700, -1.3505,  0.3415, -0.5943,  0.2439]],\n",
       "\n",
       "        [[-0.2898, -0.4877,  0.9536,  0.5764,  0.1351],\n",
       "         [ 0.6834, -0.2341,  1.9765,  0.0505,  0.7867],\n",
       "         [ 1.2800,  1.4581,  0.4962, -1.0274, -0.5660],\n",
       "         [ 1.2235,  2.9338,  0.5091,  0.5528, -2.0385]]])"
      ]
     },
     "execution_count": 61,
     "metadata": {},
     "output_type": "execute_result"
    }
   ],
   "source": [
    "A"
   ]
  }
 ],
 "metadata": {
  "language_info": {
   "name": "python"
  }
 },
 "nbformat": 4,
 "nbformat_minor": 2
}
