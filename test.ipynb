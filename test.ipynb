{
 "cells": [
  {
   "cell_type": "code",
   "execution_count": 1,
   "metadata": {},
   "outputs": [
    {
     "name": "stdout",
     "output_type": "stream",
     "text": [
      "Time stamp: 2025-05-09 15-02-56\n"
     ]
    }
   ],
   "source": [
    "import os\n",
    "import time\n",
    "import random\n",
    "import copy\n",
    "import sys\n",
    "\n",
    "import numpy as np\n",
    "import torch\n",
    "\n",
    "sys.path.append(\"/jet/home/azhang19/stat 260/STAT-260-Final-Project-Randomized-Linear-Algebra-Transformer\")\n",
    "from RLALLaMA3.LLaMA3 import ModelArgs, Transformer\n",
    "from RLALLaMA3.utils import (\n",
    "    linear_warmup_cosine_decay_multiplicative,\n",
    "    name_args,\n",
    "    Args,\n",
    ")\n",
    "from RLALLaMA3.tasks import single_answer_seq_loss, get_dataset\n",
    "from RLALLaMA3.RLACore import sample_and_project_mm, rla_scaled_dot_product_attention\n",
    "\n",
    "def set_seed(seed):\n",
    "    random.seed(seed)\n",
    "    np.random.seed(seed)\n",
    "    torch.manual_seed(seed)\n",
    "    if torch.cuda.is_available():\n",
    "        torch.cuda.manual_seed(seed)\n",
    "        torch.cuda.manual_seed_all(seed)\n",
    "    torch.backends.cudnn.deterministic = True\n",
    "    torch.backends.cudnn.benchmark = False\n",
    "\n",
    "torch.set_float32_matmul_precision(\"high\")\n",
    "device = \"cuda\" if torch.cuda.is_available() else \"cpu\"\n",
    "\n",
    "time_stamp = time.strftime(\"%Y-%m-%d %H-%M-%S\", time.localtime())\n",
    "print(f\"Time stamp: {time_stamp}\")"
   ]
  },
  {
   "cell_type": "code",
   "execution_count": 2,
   "metadata": {},
   "outputs": [],
   "source": [
    "A = torch.arange(120).reshape(2, 3, 4, 5)\n",
    "B = torch.arange(60).reshape(3, 5, 4)\n",
    "\n",
    "A = torch.rand(2, 3, 4, 5)\n",
    "B = torch.rand(3, 5, 4)\n",
    "\n"
   ]
  },
  {
   "cell_type": "code",
   "execution_count": 3,
   "metadata": {},
   "outputs": [
    {
     "data": {
      "text/plain": [
       "tensor(0.0003)"
      ]
     },
     "execution_count": 3,
     "metadata": {},
     "output_type": "execute_result"
    }
   ],
   "source": [
    "sample_without_dim = 3\n",
    "projection_dim = 1\n",
    "AB_bar = sample_and_project_mm(A, B, sample_without_dim, projection_dim=1000, projection_mode='rademacher')\n",
    "(AB_bar - A @ B).square().mean()"
   ]
  }
 ],
 "metadata": {
  "kernelspec": {
   "display_name": "neuralode",
   "language": "python",
   "name": "python3"
  },
  "language_info": {
   "codemirror_mode": {
    "name": "ipython",
    "version": 3
   },
   "file_extension": ".py",
   "mimetype": "text/x-python",
   "name": "python",
   "nbconvert_exporter": "python",
   "pygments_lexer": "ipython3",
   "version": "3.13.2"
  }
 },
 "nbformat": 4,
 "nbformat_minor": 2
}
